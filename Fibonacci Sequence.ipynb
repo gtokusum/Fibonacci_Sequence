{
 "cells": [
  {
   "cell_type": "code",
   "execution_count": 92,
   "metadata": {},
   "outputs": [
    {
     "name": "stdout",
     "output_type": "stream",
     "text": [
      "please enter a number above 2: 2\n",
      "Not a valid integer\n",
      "please enter a number above 2: -3\n",
      "Not a valid integer\n",
      "please enter a number above 2: a\n",
      "please enter a number above 2: 10\n",
      "Sequence is:\n",
      " [0, 1, 1, 2, 3, 5, 8, 13, 21, 34]\n"
     ]
    }
   ],
   "source": [
    "def sequence():\n",
    "    \n",
    "    ans=[0,1] #starting 2 sequence of fibinocci\n",
    "    \n",
    "    while True:\n",
    "        \n",
    "        x=input(\"please enter a number above 2: \")\n",
    "        #getting an integer thats above 2 \n",
    "        try:\n",
    "            y=int(x)\n",
    "            if y <= 2 or y> 10000:\n",
    "                print(\"Not a valid integer\")\n",
    "                continue\n",
    "        \n",
    "        except:\n",
    "            continue\n",
    "        #getting sequence to nth degree\n",
    "        else:\n",
    "            gamma=int(x)\n",
    "            z=range(gamma)\n",
    "            for i in z:\n",
    "                if len(ans)<len(z):\n",
    "                    zeta=ans[-1]+ans[-2]\n",
    "                    ans.append(zeta)\n",
    "            print(\"Sequence is:\\n\",ans)\n",
    "            break\n",
    "            \n",
    "if __name__ == \"__main__\":\n",
    "    sequence()"
   ]
  }
 ],
 "metadata": {
  "kernelspec": {
   "display_name": "Python 3",
   "language": "python",
   "name": "python3"
  },
  "language_info": {
   "codemirror_mode": {
    "name": "ipython",
    "version": 3
   },
   "file_extension": ".py",
   "mimetype": "text/x-python",
   "name": "python",
   "nbconvert_exporter": "python",
   "pygments_lexer": "ipython3",
   "version": "3.7.4"
  }
 },
 "nbformat": 4,
 "nbformat_minor": 2
}
